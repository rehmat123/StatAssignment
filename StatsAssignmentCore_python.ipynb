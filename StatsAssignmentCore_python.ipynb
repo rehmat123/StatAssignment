{
 "cells": [
  {
   "cell_type": "code",
   "execution_count": 165,
   "metadata": {},
   "outputs": [],
   "source": [
    "nihari_plate = [3, 5, 7,7, 12, 13,5,13]"
   ]
  },
  {
   "cell_type": "code",
   "execution_count": 191,
   "metadata": {},
   "outputs": [],
   "source": [
    "import math\n",
    "def mean(list):\n",
    "    lenght = len(list)\n",
    "    x=0\n",
    "    for a in nihari_plate:\n",
    "        x=x+a\n",
    "    return x/lenght\n",
    "\n",
    "def median(list):\n",
    "    lenght = len(list)\n",
    "    list =sorted(list)\n",
    "    middle = lenght/2\n",
    "    if lenght%2 == 1:\n",
    "        return list[int(middle)] \n",
    "    else:\n",
    "        return sum(list[int(middle) - 1:int(middle) + 1]) / 2.0\n",
    "    \n",
    "def mode(list):\n",
    "    nomode=[]\n",
    "    mode=[]\n",
    "    for a in list:\n",
    "        if a not in nomode:\n",
    "            nomode.append(a)\n",
    "        else:\n",
    "            mode.append(a)    \n",
    "    return mode\n",
    "            \n",
    "def variance(list):\n",
    "    square_list=[]\n",
    "    for i in list:\n",
    "        square_list.append(i*i)\n",
    "    return sum(square_list)/len(list)\n",
    "\n",
    "def sd(variance):\n",
    "    return math.sqrt(variance)\n",
    "    \n",
    "\n",
    "    "
   ]
  },
  {
   "cell_type": "code",
   "execution_count": 192,
   "metadata": {},
   "outputs": [
    {
     "data": {
      "text/plain": [
       "8.125"
      ]
     },
     "execution_count": 192,
     "metadata": {},
     "output_type": "execute_result"
    }
   ],
   "source": [
    "#Mean\n",
    "mean(nihari_plate)\n"
   ]
  },
  {
   "cell_type": "code",
   "execution_count": 193,
   "metadata": {},
   "outputs": [
    {
     "data": {
      "text/plain": [
       "7.0"
      ]
     },
     "execution_count": 193,
     "metadata": {},
     "output_type": "execute_result"
    }
   ],
   "source": [
    "#Median\n",
    "median(nihari_plate)\n"
   ]
  },
  {
   "cell_type": "code",
   "execution_count": 197,
   "metadata": {},
   "outputs": [
    {
     "data": {
      "text/plain": [
       "[7, 5, 13]"
      ]
     },
     "execution_count": 197,
     "metadata": {},
     "output_type": "execute_result"
    }
   ],
   "source": [
    "#mode\n",
    "mode(nihari_plate)"
   ]
  },
  {
   "cell_type": "code",
   "execution_count": 198,
   "metadata": {},
   "outputs": [
    {
     "data": {
      "text/plain": [
       "79.875"
      ]
     },
     "execution_count": 198,
     "metadata": {},
     "output_type": "execute_result"
    }
   ],
   "source": [
    "#variance\n",
    "variance(nihari_plate)"
   ]
  },
  {
   "cell_type": "code",
   "execution_count": 199,
   "metadata": {},
   "outputs": [
    {
     "data": {
      "text/plain": [
       "8.937281465859739"
      ]
     },
     "execution_count": 199,
     "metadata": {},
     "output_type": "execute_result"
    }
   ],
   "source": [
    "#Standard deviation\n",
    "sd(variance(nihari_plate))"
   ]
  },
  {
   "cell_type": "code",
   "execution_count": null,
   "metadata": {},
   "outputs": [],
   "source": []
  },
  {
   "cell_type": "code",
   "execution_count": null,
   "metadata": {},
   "outputs": [],
   "source": []
  }
 ],
 "metadata": {
  "kernelspec": {
   "display_name": "Python 3",
   "language": "python",
   "name": "python3"
  },
  "language_info": {
   "codemirror_mode": {
    "name": "ipython",
    "version": 3
   },
   "file_extension": ".py",
   "mimetype": "text/x-python",
   "name": "python",
   "nbconvert_exporter": "python",
   "pygments_lexer": "ipython3",
   "version": "3.6.3"
  }
 },
 "nbformat": 4,
 "nbformat_minor": 2
}
